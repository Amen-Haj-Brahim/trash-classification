{
 "cells": [
  {
   "cell_type": "code",
   "execution_count": null,
   "metadata": {},
   "outputs": [],
   "source": [
    "import tensorflow as tf\n",
    "from keras.preprocessing.image import ImageDataGenerator\n",
    "import os"
   ]
  },
  {
   "cell_type": "code",
   "execution_count": null,
   "metadata": {},
   "outputs": [],
   "source": [
    "#load data and resize to 224,224 by class depending on folder name\n",
    "train_datagen = ImageDataGenerator()\n",
    "test_datagen = ImageDataGenerator()\n",
    "\n",
    "train = train_datagen.flow_from_directory(os.getcwd()+'/data/train/',\n",
    "                                                    target_size = (224, 224),\n",
    "                                                    batch_size = 8,\n",
    "                                                    class_mode = 'categorical')\n",
    "\n",
    "valid = train_datagen.flow_from_directory(os.getcwd()+'/data/valid/',\n",
    "                                                    target_size = (224, 224),\n",
    "                                                    batch_size = 8,\n",
    "                                                    class_mode = 'categorical')\n",
    "\n",
    "test = test_datagen.flow_from_directory(os.getcwd()+'/data/test/',\n",
    "                                                    target_size = (224, 224),\n",
    "                                                    batch_size = 8,\n",
    "                                                    class_mode = 'categorical')"
   ]
  },
  {
   "cell_type": "code",
   "execution_count": null,
   "metadata": {},
   "outputs": [],
   "source": [
    "#load model\n",
    "vgg16=tf.keras.applications.vgg16.VGG16(weights='imagenet',include_top=False,input_shape=(224, 224, 3))"
   ]
  },
  {
   "cell_type": "code",
   "execution_count": null,
   "metadata": {},
   "outputs": [],
   "source": [
    "vgg16.summary()"
   ]
  },
  {
   "cell_type": "code",
   "execution_count": null,
   "metadata": {},
   "outputs": [],
   "source": [
    "# freeze layers\n",
    "# for l in vgg16.layers:\n",
    "#   l.trainable = False"
   ]
  },
  {
   "cell_type": "code",
   "execution_count": null,
   "metadata": {},
   "outputs": [],
   "source": [
    "#create model from frozen layer except last layer because it works on 1000 classes and instead make it classify 2 classes\n",
    "model=tf.keras.Sequential()\n",
    "\n",
    "# for l in vgg16.layers[:-1]:\n",
    "#   model.add(l)\n",
    "model.add(vgg16)\n",
    "model.add(tf.keras.layers.Flatten())\n",
    "model.add(tf.keras.layers.Dense(256, activation='relu'))\n",
    "model.add(tf.keras.layers.Dropout(0.5))\n",
    "model.add(tf.keras.layers.Dense(2, activation='softmax'))\n",
    "model.compile(loss='categorical_crossentropy',optimizer=\"adam\",metrics=['accuracy'])\n",
    "model.summary()"
   ]
  },
  {
   "cell_type": "code",
   "execution_count": null,
   "metadata": {},
   "outputs": [],
   "source": [
    "with tf.device('/gpu:0'):\n",
    "  hist=model.fit(train,validation_data=valid,epochs=10,batch_size=8,verbose=1)"
   ]
  }
 ],
 "metadata": {
  "kernelspec": {
   "display_name": "tf",
   "language": "python",
   "name": "python3"
  },
  "language_info": {
   "codemirror_mode": {
    "name": "ipython",
    "version": 3
   },
   "file_extension": ".py",
   "mimetype": "text/x-python",
   "name": "python",
   "nbconvert_exporter": "python",
   "pygments_lexer": "ipython3",
   "version": "3.9.19"
  }
 },
 "nbformat": 4,
 "nbformat_minor": 2
}
